{
 "cells": [
  {
   "cell_type": "markdown",
   "id": "d52d5fd4",
   "metadata": {},
   "source": [
    "## Дифференциальный зачет\n",
    " - Студент: Рудько Даниил\n",
    " - Группа: 8303"
   ]
  },
  {
   "cell_type": "code",
   "execution_count": 1,
   "id": "b1b4fb02",
   "metadata": {},
   "outputs": [],
   "source": [
    "import numpy as np\n",
    "import pandas as pd\n",
    "from IPython.display import Image"
   ]
  },
  {
   "cell_type": "markdown",
   "id": "ca8dc54e",
   "metadata": {},
   "source": [
    "### Задача 1"
   ]
  },
  {
   "cell_type": "code",
   "execution_count": 2,
   "id": "441e9f48",
   "metadata": {},
   "outputs": [
    {
     "data": {
      "text/html": [
       "<div>\n",
       "<style scoped>\n",
       "    .dataframe tbody tr th:only-of-type {\n",
       "        vertical-align: middle;\n",
       "    }\n",
       "\n",
       "    .dataframe tbody tr th {\n",
       "        vertical-align: top;\n",
       "    }\n",
       "\n",
       "    .dataframe thead th {\n",
       "        text-align: right;\n",
       "    }\n",
       "</style>\n",
       "<table border=\"1\" class=\"dataframe\">\n",
       "  <thead>\n",
       "    <tr style=\"text-align: right;\">\n",
       "      <th></th>\n",
       "      <th>wave</th>\n",
       "      <th>x</th>\n",
       "      <th>y</th>\n",
       "      <th>z</th>\n",
       "    </tr>\n",
       "  </thead>\n",
       "  <tbody>\n",
       "    <tr>\n",
       "      <th>39</th>\n",
       "      <td>555</td>\n",
       "      <td>0.337363</td>\n",
       "      <td>0.658848</td>\n",
       "      <td>0.003788</td>\n",
       "    </tr>\n",
       "  </tbody>\n",
       "</table>\n",
       "</div>"
      ],
      "text/plain": [
       "    wave         x         y         z\n",
       "39   555  0.337363  0.658848  0.003788"
      ]
     },
     "execution_count": 2,
     "metadata": {},
     "output_type": "execute_result"
    }
   ],
   "source": [
    "cie = pd.read_csv(\"cccie31.csv\")\n",
    "cie[cie.wave==555]"
   ]
  },
  {
   "cell_type": "markdown",
   "id": "f9155a07",
   "metadata": {},
   "source": [
    "### Задача 2"
   ]
  },
  {
   "cell_type": "markdown",
   "id": "7deab6b1",
   "metadata": {},
   "source": [
    "$$\n",
    "C_{\\mathrm{linear}} = \\left\\{\\begin{array}{ll}\n",
    "\\frac{C_{\\mathrm{sRGB}}}{12.92} & \\mathrm{если}\\ C_{\\mathrm{sRGB}} \\leqslant 0.04045 \\\\\n",
    "\\left(\\frac{C_{\\mathrm{sRGB}} + 0.055}{1.055}\\right)^{2.4} & \\mathrm{если}\\ C_{\\mathrm{sRGB}} > 0.04045 \\\\\n",
    "\\end{array}\\right.\n",
    "$$"
   ]
  },
  {
   "cell_type": "markdown",
   "id": "7ebd0a35",
   "metadata": {},
   "source": [
    "$$\n",
    "\\left[\\begin{array}{ccc}\n",
    "X_{D_{65}}\\\\\n",
    "Y_{D_{65}}\\\\\n",
    "Z_{D_{65}}\\\\\n",
    "\\end{array}\\right] = \n",
    "\\left[\\begin{array}{ccc1}\n",
    "0.4124 & 0.3576 & 0.1805\\\\\n",
    "0.2126 & 0.7152 & 0.0722\\\\\n",
    "0.0193 & 0.1192 & 0.9505\\\\\n",
    "\\end{array}\\right]\n",
    "\\left[\\begin{array}{ccc2}\n",
    "R_{linear}\\\\\n",
    "G_{linear}\\\\\n",
    "B_{linear}\\\\\n",
    "\\end{array}\\right]\n",
    "$$ "
   ]
  },
  {
   "cell_type": "code",
   "execution_count": 3,
   "id": "4ed5cb7d",
   "metadata": {},
   "outputs": [
    {
     "name": "stdout",
     "output_type": "stream",
     "text": [
      "XYZ: [0.30121213 0.26784356 0.08395609]\n"
     ]
    }
   ],
   "source": [
    "linearazie = lambda v: v/12.92 if v <= 0.04045 else np.power(((v+0.055)/1.055), 2.4)\n",
    "\n",
    "sRGB = np.array([0.75, 0.5, 0.25])\n",
    "sRGB_lin = np.array(list(map(linearazie, sRGB)))\n",
    "\n",
    "sRGBtoXYZ = np.array([[0.4124, 0.3576, 0.1805],\n",
    "                      [0.2126, 0.7152, 0.0722],\n",
    "                      [0.0193, 0.1192, 0.9505]])\n",
    "\n",
    "print(\"XYZ:\", sRGBtoXYZ.dot(sRGB_lin))"
   ]
  },
  {
   "cell_type": "markdown",
   "id": "8f77979a",
   "metadata": {},
   "source": [
    "  \n",
    "Матрица преобразования $D_{65}$ в $D_{50}$\n",
    "$$\n",
    "M = \\left[\\begin{array}{ccc}\n",
    "1.047886 & 0.022919 & -0.050216\\\\\n",
    "0.029582 & 0.990484 & -0.017079\\\\\n",
    "-0.009252 & 0.015073 & 0.751678\\\\\n",
    "\\end{array}\\right] \n",
    "$$\n",
    "Матрица получина с помощью [преобразования Бредфорда](http://fujiwaratko.sakura.ne.jp/infosci/colorspace/bradford_e.html)"
   ]
  },
  {
   "cell_type": "code",
   "execution_count": 4,
   "id": "1ec97a7f",
   "metadata": {},
   "outputs": [
    {
     "name": "stdout",
     "output_type": "stream",
     "text": [
      "XYZ D50: [0.31755875 0.27277133 0.06435834]\n"
     ]
    }
   ],
   "source": [
    "D65toD50 = np.array([[1.047886, 0.022919, -0.050216],\n",
    "                     [0.029582, 0.990484, -0.017079],\n",
    "                     [-0.009252, 0.015073, 0.751678]])\n",
    "print(\"XYZ D50:\", D65toD50.dot(sRGBtoXYZ.dot(sRGB_lin)))"
   ]
  },
  {
   "cell_type": "markdown",
   "id": "7033b49f",
   "metadata": {},
   "source": [
    "### Задача 3"
   ]
  },
  {
   "cell_type": "markdown",
   "id": "db163d16",
   "metadata": {},
   "source": [
    "**Эквализация**  \n",
    "\n",
    "Функция распределения, где H(j) - начальная гистограмма\n",
    "\n",
    "$ H'(x) = \\sum_{j=0}^{x-1}H(j) $\n",
    "\n",
    "Тогда формула пикселя эквализированного изображения: $ equalized(x, y) = H'(I(x, y)) $\n",
    "\n",
    "**Инверсия**\n",
    "\n",
    "$ LUT[i] = 1 - i $  \n",
    "$ i = y(x) = x $  \n",
    "$ LUT[i] = 1 - x $  \n",
    "$ inversion(x,y) = 255 - I(x, y) $"
   ]
  },
  {
   "cell_type": "markdown",
   "id": "a8de2355",
   "metadata": {},
   "source": [
    "### Задача 4"
   ]
  },
  {
   "cell_type": "markdown",
   "id": "ebebed06",
   "metadata": {},
   "source": [
    "**Сепарабельными являются только одноранговые фильтры.**\n",
    "</br>\n",
    "Док-во:\n",
    "</br>\n",
    "Сепарабельный фильтр - фильтр, который можно представить ввиде произведения двух векторов\n",
    "\n",
    "$$ \\begin{pmatrix} a_1 \\\\ ... \\\\ a_n \\end{pmatrix} \\times \\begin{pmatrix} b_1 & ... & b_n \\end{pmatrix} =\n",
    "\\begin{pmatrix}\n",
    "    a_1 b_1 & \\dots  & a_1 b_n \\\\\n",
    "    \\vdots  & \\ddots & \\vdots  \\\\\n",
    "    a_n b_1 & \\dots  & a_n b_n \\\\\n",
    "\\end{pmatrix}\n",
    "$$\n",
    "\n",
    "Каждая строка является линейной комбинацией любой другой строки\n",
    "</br>\n",
    "Каждый столбец является линейной комбинацией любого другого столбца\n",
    "</br>\n",
    "Ранг матрицы, полученной путем произведения двух векторов равен 1\n"
   ]
  },
  {
   "cell_type": "markdown",
   "id": "50bd7e72",
   "metadata": {},
   "source": [
    "### Задача 5"
   ]
  },
  {
   "cell_type": "markdown",
   "id": "d9db9ae9",
   "metadata": {},
   "source": [
    "Исходный цепной код: **1527650432**\n",
    "\n",
    "\n",
    "Инвариантность к выбору начальной точки достигается путем сдвига последовательности таким образом, что полученное число -- наименьшее</br>\n",
    "Код инвариантный к выбору начальной точки: **0432152765**\n",
    "\n",
    "Инвариантность к повороту достигается если рассматривать первую разность значений кода</br>\n",
    "Код инвариантный к повороту: **4777455773**\n"
   ]
  },
  {
   "cell_type": "markdown",
   "id": "d49d2ac7",
   "metadata": {},
   "source": [
    "### Задача 6"
   ]
  },
  {
   "cell_type": "markdown",
   "id": "e93e98d8",
   "metadata": {},
   "source": [
    "Черный контур - фигура после применения операции:\n",
    "* слева - дилатация\n",
    "* справа - эррозия"
   ]
  },
  {
   "cell_type": "code",
   "execution_count": 5,
   "id": "e658363d",
   "metadata": {},
   "outputs": [
    {
     "data": {
      "image/png": "[encoded data removed]",
      "text/plain": [
       "<IPython.core.display.Image object>"
      ]
     },
     "execution_count": 5,
     "metadata": {},
     "output_type": "execute_result"
    }
   ],
   "source": [
    "Image(filename=\"file.png\")"
   ]
  },
  {
   "cell_type": "markdown",
   "id": "7cc48634",
   "metadata": {},
   "source": [
    "### Задача 7"
   ]
  },
  {
   "cell_type": "markdown",
   "id": "10110244",
   "metadata": {},
   "source": [
    "Матрица значений яркости\n",
    "\n",
    "$$\n",
    "{}^n \\! \\overset{n}{\n",
    "    \\begin{pmatrix}\n",
    "        0 & 1 & 0 & \\dots & 1 \\\\\n",
    "        1 & 0 & 1 & \\dots & 0 \\\\\n",
    "        \\vdots & \\vdots & \\vdots & \\ddots & \\vdots \\\\\n",
    "        1 & 0 & 1 & \\dots & 0 \\\\\n",
    "    \\end{pmatrix}\n",
    "}\n",
    "$$\n",
    "\n",
    "Используется всего два уровня яркости, следовательно матрица GLCM имеет размер $2\\times2$\n",
    "\n",
    "$$\n",
    "\\begin{matrix}\n",
    "  &    0   &    1   \\\\\n",
    "0 & a_{00} & a_{01} \\\\\n",
    "1 & a_{10} & a_{11} \\\\\n",
    "\\end{matrix}\n",
    "$$\n",
    "\n",
    "Для построения данной матрицы необходимо опеределить соседний пиксель, который параметризуется направлением $\\varphi$ и расстоянием $d$.\n",
    "* $\\varphi$ - угол ($0^{\\circ}$, $45^{\\circ}$, $90^{\\circ}$, $135^{\\circ}$, $180^{\\circ}$, $225^{\\circ}$, $270^{\\circ}$, $315^{\\circ}$)\n",
    "* $d$ - расстояние в пикселях\n",
    "\n",
    "Из-за повторяемости шаблона изображение стоит рассматривать $d$ как четное и нечетное, а углы  $0^{\\circ}$, $45^{\\circ}$.\n",
    "\n",
    "Матрицы для нечетного расстояния:\n",
    "$$\n",
    "\\varphi = 0 ^{\\circ} \\;\\begin{pmatrix} 0 & a_{01} \\\\ a_{10} & 0 \\\\ \\end{pmatrix};\\;\n",
    "\\varphi = 45^{\\circ} \\;\\begin{pmatrix} a_{00} & 0 \\\\ 0 & a_{11} \\\\ \\end{pmatrix};\\;\n",
    "$$\n",
    "\n",
    "Матрицы для четного расстояния:\n",
    "$$\n",
    "\\varphi = 0 ^{\\circ} \\;\\begin{pmatrix} a_{00} & 0 \\\\ 0 & a_{11} \\\\ \\end{pmatrix};\\;\n",
    "\\varphi = 45^{\\circ} \\;\\begin{pmatrix} a_{00} & 0 \\\\ 0 & a_{11} \\\\ \\end{pmatrix};\\;\n",
    "$$\n",
    "\n",
    "Т.е. в случае, когда $d$ - нечетное, а $\\varphi$ - вертикальное или горизонтальное, матрица смежности не является диагональной.\n",
    "\n",
    "Во всех остальных случаях матрица смежности -- диагональна.\n"
   ]
  },
  {
   "cell_type": "markdown",
   "id": "58bc9617",
   "metadata": {},
   "source": [
    "### Задача 8"
   ]
  },
  {
   "cell_type": "markdown",
   "id": "ef38ea62",
   "metadata": {},
   "source": [
    "Детектор Харриса не инвариантен к **масштабу** изображения.  \n",
    "(Так же на корректность работы детектора могут влиять и другие факторы, например наличие шума, но это не относится к трансформации изображения)"
   ]
  },
  {
   "cell_type": "markdown",
   "id": "7a5e4332",
   "metadata": {},
   "source": [
    "### Задача 9"
   ]
  },
  {
   "cell_type": "code",
   "execution_count": 6,
   "id": "5880f127",
   "metadata": {},
   "outputs": [],
   "source": [
    "w = 4\n",
    "h = 2\n",
    "\n",
    "def m(p,q):\n",
    "    return sum([(x**p)*(y**q) for x in range(w) for y in range(h)])\n",
    "\n",
    "def cm(p, q):\n",
    "    return sum([((x-m(1,0)/m(0,0))**p)*((y-m(0,1)/m(0,0))**q) for x in range(w) for y in range(h)])\n",
    "\n",
    "def eta(p, q):\n",
    "    return cm(p,q)/np.power(cm(0,0), (p+q+2)/2)\n"
   ]
  },
  {
   "cell_type": "code",
   "execution_count": 7,
   "id": "627ad778",
   "metadata": {},
   "outputs": [
    {
     "name": "stdout",
     "output_type": "stream",
     "text": [
      "Компактность: 18.0\n"
     ]
    }
   ],
   "source": [
    "print(\"Компактность:\", ((w + h)*2)**2 / (w*h))"
   ]
  },
  {
   "cell_type": "code",
   "execution_count": 8,
   "id": "a19af6a9",
   "metadata": {},
   "outputs": [
    {
     "name": "stdout",
     "output_type": "stream",
     "text": [
      "Эксцентриситет: 5.0\n"
     ]
    }
   ],
   "source": [
    "m_20 = cm(2,0)\n",
    "m_02 = cm(0,2)\n",
    "m_11 = cm(1,1)\n",
    "\n",
    "print(\"Эксцентриситет:\", \n",
    "      (m_20 + m_02 + np.sqrt((m_20 - m_02)**2 + 4*m_11**2))/(m_20 + m_02 - np.sqrt((m_20 - m_02)**2 + 4*m_11**2)))"
   ]
  },
  {
   "cell_type": "code",
   "execution_count": 9,
   "id": "d6ae0973",
   "metadata": {},
   "outputs": [
    {
     "name": "stdout",
     "output_type": "stream",
     "text": [
      "Центр масс: (1.5, 0.5)\n"
     ]
    }
   ],
   "source": [
    "print(\"Центр масс:\", (m(1,0)/m(0,0), m(0,1)/m(0,0)))"
   ]
  },
  {
   "cell_type": "code",
   "execution_count": 10,
   "id": "4c5b97c6",
   "metadata": {},
   "outputs": [
    {
     "name": "stdout",
     "output_type": "stream",
     "text": [
      "Ориентацию главной оси инерции 0.0\n"
     ]
    }
   ],
   "source": [
    "print(\"Ориентацию главной оси инерции\", 0.5*np.arctan(2*m_11/(m_20-m_02)))"
   ]
  },
  {
   "cell_type": "code",
   "execution_count": 11,
   "id": "9a79d481",
   "metadata": {},
   "outputs": [
    {
     "name": "stdout",
     "output_type": "stream",
     "text": [
      "Первые 4-ре момента Hu:\n",
      "hu_1 = 0.1875\n",
      "hu_2 = 0.015625\n",
      "hu_3 = 0.0\n",
      "hu_4 = 0.0\n"
     ]
    }
   ],
   "source": [
    "hu_1 = eta(0,2) + eta(2,0)\n",
    "hu_2 = (eta(2,0) - eta(0,2))**2 + 4*eta(1,1)**2\n",
    "hu_3 = (eta(3,0) - 3*eta(1,2))**2 + (3*eta(2,1) - eta(0,3))**2\n",
    "hu_4 = (eta(3,0) + eta(1,2))**2 + (eta(2,1) + eta(0,3))**2\n",
    "\n",
    "print(\"Первые 4-ре момента Hu:\")\n",
    "print(f\"{hu_1 = }\")\n",
    "print(f\"{hu_2 = }\")\n",
    "print(f\"{hu_3 = }\")\n",
    "print(f\"{hu_4 = }\")"
   ]
  },
  {
   "cell_type": "markdown",
   "id": "cccd2d92",
   "metadata": {},
   "source": [
    "### Задача 11"
   ]
  },
  {
   "cell_type": "code",
   "execution_count": 13,
   "id": "4e872733",
   "metadata": {},
   "outputs": [
    {
     "name": "stdout",
     "output_type": "stream",
     "text": [
      " 10000      0    950 \n",
      "     0  10000    550 \n",
      "     0      0      1 \n"
     ]
    }
   ],
   "source": [
    "fx = fy = 0.01 * 10**6\n",
    "cx = 950\n",
    "cy = 550\n",
    "y = 0\n",
    "K = np.matrix([[fx, y, cx], [0, fy, cy], [0, 0, 1]])\n",
    "\n",
    "for i in K.tolist():\n",
    "    for j in i:\n",
    "        print(f\"%6d \" % j, end=\"\")\n",
    "    print()\n"
   ]
  }
 ],
 "metadata": {
  "kernelspec": {
   "display_name": "Python 3 (ipykernel)",
   "language": "python",
   "name": "python3"
  },
  "language_info": {
   "codemirror_mode": {
    "name": "ipython",
    "version": 3
   },
   "file_extension": ".py",
   "mimetype": "text/x-python",
   "name": "python",
   "nbconvert_exporter": "python",
   "pygments_lexer": "ipython3",
   "version": "3.8.10"
  }
 },
 "nbformat": 4,
 "nbformat_minor": 5
}
